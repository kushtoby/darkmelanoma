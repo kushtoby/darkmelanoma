{
 "cells": [
  {
   "cell_type": "code",
   "execution_count": 14,
   "id": "roman-short",
   "metadata": {},
   "outputs": [],
   "source": [
    "import cv2\n",
    "import os\n",
    "from keras.preprocessing.image import ImageDataGenerator, load_img, img_to_array\n",
    "from PIL import Image\n",
    "datagen = ImageDataGenerator(\n",
    "    rotation_range=30,\n",
    "    zoom_range=0.15,\n",
    "    width_shift_range=0.2,\n",
    "    height_shift_range=0.2,\n",
    "    shear_range=0.15,\n",
    "    horizontal_flip=True,\n",
    "    fill_mode=\"nearest\")\n",
    "\n",
    "def load_images_from_folder(folder):\n",
    "    images = []\n",
    "    for img in os.listdir(folder):\n",
    "        if img is not None:\n",
    "            images.append(img)\n",
    "    return images\n",
    "folder=\"Pictures/dermBlack/processed not Melanoma Black/\"\n",
    "images = load_images_from_folder(folder)\n",
    "\n",
    "\n",
    "for image in images:\n",
    "    imae = Image.open(folder+image)\n",
    "    pic_array = img_to_array(imae)\n",
    "    pic_array = pic_array.reshape((1,) + pic_array.shape)\n",
    "    count = 0\n",
    "    for batch in datagen.flow(pic_array, batch_size=32, save_to_dir=\"Pictures/dermBlack/generatedNotMelanoma\", save_prefix=\"gen\", save_format=\"jpg\"):\n",
    "        count += 1\n",
    "        if count == 6:\n",
    "            break\n",
    "\n",
    "\n"
   ]
  },
  {
   "cell_type": "code",
   "execution_count": null,
   "id": "valued-portable",
   "metadata": {},
   "outputs": [],
   "source": []
  }
 ],
 "metadata": {
  "kernelspec": {
   "display_name": "Python 3",
   "language": "python",
   "name": "python3"
  },
  "language_info": {
   "codemirror_mode": {
    "name": "ipython",
    "version": 3
   },
   "file_extension": ".py",
   "mimetype": "text/x-python",
   "name": "python",
   "nbconvert_exporter": "python",
   "pygments_lexer": "ipython3",
   "version": "3.8.5"
  }
 },
 "nbformat": 4,
 "nbformat_minor": 5
}
